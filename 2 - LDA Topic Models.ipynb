{
 "cells": [
  {
   "cell_type": "code",
   "execution_count": 9,
   "metadata": {},
   "outputs": [
    {
     "name": "stdout",
     "output_type": "stream",
     "text": [
      "Loaded 2150 X 3139 document-term matrix\n"
     ]
    }
   ],
   "source": [
    "from sklearn.externals import joblib\n",
    "(A,terms,snippets) = joblib.load( \"articles-raw.pkl\" )\n",
    "print( \"Loaded %d X %d document-term matrix\" % (A.shape[0], A.shape[1]) )"
   ]
  },
  {
   "cell_type": "code",
   "execution_count": 24,
   "metadata": {},
   "outputs": [],
   "source": [
    "from sklearn.decomposition import LatentDirichletAllocation\n",
    "k=15\n",
    "model = LatentDirichletAllocation(n_components=k, max_iter=50, learning_method='online', learning_offset=50.,random_state=0).fit(A)\n",
    "W = model.fit_transform( A )\n",
    "H = model.components_"
   ]
  },
  {
   "cell_type": "code",
   "execution_count": 25,
   "metadata": {},
   "outputs": [
    {
     "data": {
      "text/plain": [
       "(2150, 10)"
      ]
     },
     "execution_count": 25,
     "metadata": {},
     "output_type": "execute_result"
    }
   ],
   "source": [
    "W.shape"
   ]
  },
  {
   "cell_type": "code",
   "execution_count": 26,
   "metadata": {},
   "outputs": [
    {
     "data": {
      "text/plain": [
       "(10, 3139)"
      ]
     },
     "execution_count": 26,
     "metadata": {},
     "output_type": "execute_result"
    }
   ],
   "source": [
    "H.shape"
   ]
  },
  {
   "cell_type": "code",
   "execution_count": 27,
   "metadata": {},
   "outputs": [],
   "source": [
    "import numpy as np\n",
    "def get_descriptor( terms, H, topic_index, top ):\n",
    "    # reverse sort the values to sort the indices\n",
    "    top_indices = np.argsort( H[topic_index,:] )[::-1]\n",
    "    # now get the terms corresponding to the top-ranked indices\n",
    "    top_terms = []\n",
    "    for term_index in top_indices[0:top]:\n",
    "        top_terms.append( terms[term_index] )\n",
    "    return top_terms"
   ]
  },
  {
   "cell_type": "code",
   "execution_count": 29,
   "metadata": {},
   "outputs": [
    {
     "name": "stdout",
     "output_type": "stream",
     "text": [
      "Topic 01: court, law, legal, rights, yukos, against, lord, government, bill, russian\n",
      "Topic 02: company, deal, club, told, firm, chief, bid, executive, former, offer\n",
      "Topic 03: film, best, music, show, awards, award, star, band, tv, album\n",
      "Topic 04: game, england, against, time, win, back, play, team, players, half\n",
      "Topic 05: olympic, drugs, athens, world, gold, sport, athletics, holmes, kelly, olympics\n",
      "Topic 06: market, growth, economy, sales, 2004, china, economic, prices, world, rise\n",
      "Topic 07: people, mobile, technology, users, music, digital, software, net, phone, computer\n",
      "Topic 08: government, people, labour, election, party, blair, minister, brown, public, told\n",
      "Topic 09: cards, bank, card, id, banks, credit, fraud, chip, cash, crime\n",
      "Topic 10: games, game, women, world, title, dvd, european, titles, record, number\n"
     ]
    }
   ],
   "source": [
    "descriptors = []\n",
    "for topic_index in range(k):\n",
    "    descriptors.append( get_descriptor( terms, H, topic_index, 10 ) )\n",
    "    str_descriptor = \", \".join( descriptors[topic_index] )\n",
    "    print(\"Topic %02d: %s\" % ( topic_index+1, str_descriptor ) )"
   ]
  },
  {
   "cell_type": "code",
   "execution_count": 30,
   "metadata": {},
   "outputs": [],
   "source": [
    "%matplotlib inline\n",
    "import numpy as np\n",
    "import matplotlib\n",
    "import matplotlib.pyplot as plt\n",
    "plt.style.use(\"ggplot\")\n",
    "matplotlib.rcParams.update({\"font.size\": 14})"
   ]
  },
  {
   "cell_type": "code",
   "execution_count": 31,
   "metadata": {},
   "outputs": [],
   "source": [
    "def plot_top_term_weights( terms, H, topic_index, top ):\n",
    "    # get the top terms and their weights\n",
    "    top_indices = np.argsort( H[topic_index,:] )[::-1]\n",
    "    top_terms = []\n",
    "    top_weights = []\n",
    "    for term_index in top_indices[0:top]:\n",
    "        top_terms.append( terms[term_index] )\n",
    "        top_weights.append( H[topic_index,term_index] )\n",
    "    # note we reverse the ordering for the plot\n",
    "    top_terms.reverse()\n",
    "    top_weights.reverse()\n",
    "    # create the plot\n",
    "    fig = plt.figure(figsize=(13,8))\n",
    "    # add the horizontal bar chart\n",
    "    ypos = np.arange(top)\n",
    "    ax = plt.barh(ypos, top_weights, align=\"center\", color=\"green\",tick_label=top_terms)\n",
    "    plt.xlabel(\"Term Weight\",fontsize=14)\n",
    "    plt.tight_layout()\n",
    "    plt.show()"
   ]
  },
  {
   "cell_type": "code",
   "execution_count": 32,
   "metadata": {},
   "outputs": [
    {
     "data": {
      "image/png": "[encoded data removed]",
      "text/plain": [
       "<Figure size 936x576 with 1 Axes>"
      ]
     },
     "metadata": {},
     "output_type": "display_data"
    }
   ],
   "source": [
    "plot_top_term_weights( terms, H, 6, 15 )"
   ]
  },
  {
   "cell_type": "code",
   "execution_count": 33,
   "metadata": {},
   "outputs": [],
   "source": [
    "def get_top_snippets( all_snippets, W, topic_index, top ):\n",
    "    # reverse sort the values to sort the indices\n",
    "    top_indices = np.argsort( W[:,topic_index] )[::-1]\n",
    "    # now get the snippets corresponding to the top-ranked indices\n",
    "    top_snippets = []\n",
    "    for doc_index in top_indices[0:top]:\n",
    "        top_snippets.append( all_snippets[doc_index] )\n",
    "    return top_snippets"
   ]
  },
  {
   "cell_type": "code",
   "execution_count": 34,
   "metadata": {},
   "outputs": [
    {
     "name": "stdout",
     "output_type": "stream",
     "text": [
      "01. US to rule on Yukos refuge call Yukos has said a US bankruptcy court will decide whether to block Ru\n",
      "02. Yukos loses US bankruptcy battle A judge has dismissed an attempt by Russian oil giant Yukos to gain\n",
      "03. Yukos sues four firms for $20bn Russian oil firm Yukos has sued four companies for their role in las\n",
      "04. Yukos bankruptcy 'not US matter' Russian authorities do not have to abide by any US court decisions \n",
      "05. Yukos heading back to US courts Russian oil and gas company Yukos is due in a US court on Thursday a\n",
      "06. Yukos unit buyer faces loan claim The owners of embattled Russian oil giant Yukos are to ask the buy\n",
      "07. Yukos drops banks from court bid Russian oil company Yukos has dropped the threat of legal action ag\n",
      "08. Deutsche attacks Yukos case German investment bank Deutsche Bank has challenged the right of Yukos t\n",
      "09. Yukos accused of lying to court Russian oil firm Yukos lied to a US court in an attempt to stop the \n",
      "10. Yukos seeks court action on sale Yukos will return to a US court on Wednesday to seek sanctions agai\n"
     ]
    }
   ],
   "source": [
    "topic_snippets = get_top_snippets( snippets, W, 0, 10 )\n",
    "for i, snippet in enumerate(topic_snippets):\n",
    "    print(\"%02d. %s\" % ( (i+1), snippet ) )"
   ]
  },
  {
   "cell_type": "code",
   "execution_count": 35,
   "metadata": {},
   "outputs": [
    {
     "name": "stdout",
     "output_type": "stream",
     "text": [
      "01. Ebbers denies WorldCom fraud Former WorldCom chief Bernie Ebbers has denied claims that he knew acco\n",
      "02. Worldcom director ends evidence The former chief financial officer at US telecoms firm WorldCom has \n",
      "03. Worldcom ex-boss launches defence Lawyers defending former WorldCom chief Bernie Ebbers against a ba\n",
      "04. Mixed reaction to Man Utd offer Shares in Manchester United were up over 5% by noon on Monday follow\n",
      "05. Worldcom boss 'left books alone' Former Worldcom boss Bernie Ebbers, who is accused of overseeing an\n",
      "06. Glazer makes new Man Utd approach Malcolm Glazer has made a fresh approach to buy Manchester United,\n",
      "07. Shares rise on new Man Utd offer Shares in Manchester United closed up 4.75% on Monday following a n\n",
      "08. Insurance bosses plead guilty Another three US insurance executives have pleaded guilty to fraud cha\n",
      "09. WorldCom director admits lying The former chief financial officer at US telecoms firm WorldCom has a\n",
      "10. Ferdinand casts doubt over Glazer Rio Ferdinand has said he is unsure of Malcolm Glazer's motives af\n"
     ]
    }
   ],
   "source": [
    "topic_snippets = get_top_snippets( snippets, W, 1, 10 )\n",
    "for i, snippet in enumerate(topic_snippets):\n",
    "    print(\"%02d. %s\" % ( (i+1), snippet ) )"
   ]
  },
  {
   "cell_type": "code",
   "execution_count": 36,
   "metadata": {},
   "outputs": [
    {
     "data": {
      "text/plain": [
       "['articles-model-lda-k10.pkl']"
      ]
     },
     "execution_count": 36,
     "metadata": {},
     "output_type": "execute_result"
    }
   ],
   "source": [
    "joblib.dump((W,H,terms,snippets), \"articles-model-lda-k%02d.pkl\" % k) "
   ]
  },
  {
   "cell_type": "code",
   "execution_count": null,
   "metadata": {},
   "outputs": [],
   "source": []
  }
 ],
 "metadata": {
  "kernelspec": {
   "display_name": "Python 3",
   "language": "python",
   "name": "python3"
  },
  "language_info": {
   "codemirror_mode": {
    "name": "ipython",
    "version": 3
   },
   "file_extension": ".py",
   "mimetype": "text/x-python",
   "name": "python",
   "nbconvert_exporter": "python",
   "pygments_lexer": "ipython3",
   "version": "3.6.5"
  }
 },
 "nbformat": 4,
 "nbformat_minor": 2
}
